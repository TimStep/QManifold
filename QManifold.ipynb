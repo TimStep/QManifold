{
  "nbformat": 4,
  "nbformat_minor": 0,
  "metadata": {
    "colab": {
      "provenance": [],
      "gpuType": "T4",
      "authorship_tag": "ABX9TyNGfGIP7F2xqOuA6k3LHKJc",
      "include_colab_link": true
    },
    "kernelspec": {
      "name": "python3",
      "display_name": "Python 3"
    },
    "language_info": {
      "name": "python"
    },
    "accelerator": "GPU",
    "widgets": {
      "application/vnd.jupyter.widget-state+json": {
        "3fc1db10a3f74fd381213bd389e64f12": {
          "model_module": "@jupyter-widgets/controls",
          "model_name": "HBoxModel",
          "model_module_version": "1.5.0",
          "state": {
            "_dom_classes": [],
            "_model_module": "@jupyter-widgets/controls",
            "_model_module_version": "1.5.0",
            "_model_name": "HBoxModel",
            "_view_count": null,
            "_view_module": "@jupyter-widgets/controls",
            "_view_module_version": "1.5.0",
            "_view_name": "HBoxView",
            "box_style": "",
            "children": [
              "IPY_MODEL_c7b86cc6ad814a038205c83e497c021e",
              "IPY_MODEL_448d020c230d4173b060567f37298034",
              "IPY_MODEL_f14cb35801d34514bcbf4fa4a3d32f78"
            ],
            "layout": "IPY_MODEL_32f6f10a30a540849ecfe947a29deb9d"
          }
        },
        "c7b86cc6ad814a038205c83e497c021e": {
          "model_module": "@jupyter-widgets/controls",
          "model_name": "HTMLModel",
          "model_module_version": "1.5.0",
          "state": {
            "_dom_classes": [],
            "_model_module": "@jupyter-widgets/controls",
            "_model_module_version": "1.5.0",
            "_model_name": "HTMLModel",
            "_view_count": null,
            "_view_module": "@jupyter-widgets/controls",
            "_view_module_version": "1.5.0",
            "_view_name": "HTMLView",
            "description": "",
            "description_tooltip": null,
            "layout": "IPY_MODEL_0c685cb38c224f45b4116d5f2ac7e9f4",
            "placeholder": "​",
            "style": "IPY_MODEL_d680e8b40a014520bfd7b3e233070615",
            "value": "100%"
          }
        },
        "448d020c230d4173b060567f37298034": {
          "model_module": "@jupyter-widgets/controls",
          "model_name": "FloatProgressModel",
          "model_module_version": "1.5.0",
          "state": {
            "_dom_classes": [],
            "_model_module": "@jupyter-widgets/controls",
            "_model_module_version": "1.5.0",
            "_model_name": "FloatProgressModel",
            "_view_count": null,
            "_view_module": "@jupyter-widgets/controls",
            "_view_module_version": "1.5.0",
            "_view_name": "ProgressView",
            "bar_style": "success",
            "description": "",
            "description_tooltip": null,
            "layout": "IPY_MODEL_ce683fe95bf34ec2a26376f0cde7c5b0",
            "max": 10,
            "min": 0,
            "orientation": "horizontal",
            "style": "IPY_MODEL_bb9e15c1d95543f295a09aa7c2c0f4b6",
            "value": 10
          }
        },
        "f14cb35801d34514bcbf4fa4a3d32f78": {
          "model_module": "@jupyter-widgets/controls",
          "model_name": "HTMLModel",
          "model_module_version": "1.5.0",
          "state": {
            "_dom_classes": [],
            "_model_module": "@jupyter-widgets/controls",
            "_model_module_version": "1.5.0",
            "_model_name": "HTMLModel",
            "_view_count": null,
            "_view_module": "@jupyter-widgets/controls",
            "_view_module_version": "1.5.0",
            "_view_name": "HTMLView",
            "description": "",
            "description_tooltip": null,
            "layout": "IPY_MODEL_3ddb3539d4e042c1bf5b19508df84f6c",
            "placeholder": "​",
            "style": "IPY_MODEL_a49a0f3a547c4aebb985d812472a7b0e",
            "value": " 10/10 [1:34:09&lt;00:00, 564.84s/it]"
          }
        },
        "32f6f10a30a540849ecfe947a29deb9d": {
          "model_module": "@jupyter-widgets/base",
          "model_name": "LayoutModel",
          "model_module_version": "1.2.0",
          "state": {
            "_model_module": "@jupyter-widgets/base",
            "_model_module_version": "1.2.0",
            "_model_name": "LayoutModel",
            "_view_count": null,
            "_view_module": "@jupyter-widgets/base",
            "_view_module_version": "1.2.0",
            "_view_name": "LayoutView",
            "align_content": null,
            "align_items": null,
            "align_self": null,
            "border": null,
            "bottom": null,
            "display": null,
            "flex": null,
            "flex_flow": null,
            "grid_area": null,
            "grid_auto_columns": null,
            "grid_auto_flow": null,
            "grid_auto_rows": null,
            "grid_column": null,
            "grid_gap": null,
            "grid_row": null,
            "grid_template_areas": null,
            "grid_template_columns": null,
            "grid_template_rows": null,
            "height": null,
            "justify_content": null,
            "justify_items": null,
            "left": null,
            "margin": null,
            "max_height": null,
            "max_width": null,
            "min_height": null,
            "min_width": null,
            "object_fit": null,
            "object_position": null,
            "order": null,
            "overflow": null,
            "overflow_x": null,
            "overflow_y": null,
            "padding": null,
            "right": null,
            "top": null,
            "visibility": null,
            "width": null
          }
        },
        "0c685cb38c224f45b4116d5f2ac7e9f4": {
          "model_module": "@jupyter-widgets/base",
          "model_name": "LayoutModel",
          "model_module_version": "1.2.0",
          "state": {
            "_model_module": "@jupyter-widgets/base",
            "_model_module_version": "1.2.0",
            "_model_name": "LayoutModel",
            "_view_count": null,
            "_view_module": "@jupyter-widgets/base",
            "_view_module_version": "1.2.0",
            "_view_name": "LayoutView",
            "align_content": null,
            "align_items": null,
            "align_self": null,
            "border": null,
            "bottom": null,
            "display": null,
            "flex": null,
            "flex_flow": null,
            "grid_area": null,
            "grid_auto_columns": null,
            "grid_auto_flow": null,
            "grid_auto_rows": null,
            "grid_column": null,
            "grid_gap": null,
            "grid_row": null,
            "grid_template_areas": null,
            "grid_template_columns": null,
            "grid_template_rows": null,
            "height": null,
            "justify_content": null,
            "justify_items": null,
            "left": null,
            "margin": null,
            "max_height": null,
            "max_width": null,
            "min_height": null,
            "min_width": null,
            "object_fit": null,
            "object_position": null,
            "order": null,
            "overflow": null,
            "overflow_x": null,
            "overflow_y": null,
            "padding": null,
            "right": null,
            "top": null,
            "visibility": null,
            "width": null
          }
        },
        "d680e8b40a014520bfd7b3e233070615": {
          "model_module": "@jupyter-widgets/controls",
          "model_name": "DescriptionStyleModel",
          "model_module_version": "1.5.0",
          "state": {
            "_model_module": "@jupyter-widgets/controls",
            "_model_module_version": "1.5.0",
            "_model_name": "DescriptionStyleModel",
            "_view_count": null,
            "_view_module": "@jupyter-widgets/base",
            "_view_module_version": "1.2.0",
            "_view_name": "StyleView",
            "description_width": ""
          }
        },
        "ce683fe95bf34ec2a26376f0cde7c5b0": {
          "model_module": "@jupyter-widgets/base",
          "model_name": "LayoutModel",
          "model_module_version": "1.2.0",
          "state": {
            "_model_module": "@jupyter-widgets/base",
            "_model_module_version": "1.2.0",
            "_model_name": "LayoutModel",
            "_view_count": null,
            "_view_module": "@jupyter-widgets/base",
            "_view_module_version": "1.2.0",
            "_view_name": "LayoutView",
            "align_content": null,
            "align_items": null,
            "align_self": null,
            "border": null,
            "bottom": null,
            "display": null,
            "flex": null,
            "flex_flow": null,
            "grid_area": null,
            "grid_auto_columns": null,
            "grid_auto_flow": null,
            "grid_auto_rows": null,
            "grid_column": null,
            "grid_gap": null,
            "grid_row": null,
            "grid_template_areas": null,
            "grid_template_columns": null,
            "grid_template_rows": null,
            "height": null,
            "justify_content": null,
            "justify_items": null,
            "left": null,
            "margin": null,
            "max_height": null,
            "max_width": null,
            "min_height": null,
            "min_width": null,
            "object_fit": null,
            "object_position": null,
            "order": null,
            "overflow": null,
            "overflow_x": null,
            "overflow_y": null,
            "padding": null,
            "right": null,
            "top": null,
            "visibility": null,
            "width": null
          }
        },
        "bb9e15c1d95543f295a09aa7c2c0f4b6": {
          "model_module": "@jupyter-widgets/controls",
          "model_name": "ProgressStyleModel",
          "model_module_version": "1.5.0",
          "state": {
            "_model_module": "@jupyter-widgets/controls",
            "_model_module_version": "1.5.0",
            "_model_name": "ProgressStyleModel",
            "_view_count": null,
            "_view_module": "@jupyter-widgets/base",
            "_view_module_version": "1.2.0",
            "_view_name": "StyleView",
            "bar_color": null,
            "description_width": ""
          }
        },
        "3ddb3539d4e042c1bf5b19508df84f6c": {
          "model_module": "@jupyter-widgets/base",
          "model_name": "LayoutModel",
          "model_module_version": "1.2.0",
          "state": {
            "_model_module": "@jupyter-widgets/base",
            "_model_module_version": "1.2.0",
            "_model_name": "LayoutModel",
            "_view_count": null,
            "_view_module": "@jupyter-widgets/base",
            "_view_module_version": "1.2.0",
            "_view_name": "LayoutView",
            "align_content": null,
            "align_items": null,
            "align_self": null,
            "border": null,
            "bottom": null,
            "display": null,
            "flex": null,
            "flex_flow": null,
            "grid_area": null,
            "grid_auto_columns": null,
            "grid_auto_flow": null,
            "grid_auto_rows": null,
            "grid_column": null,
            "grid_gap": null,
            "grid_row": null,
            "grid_template_areas": null,
            "grid_template_columns": null,
            "grid_template_rows": null,
            "height": null,
            "justify_content": null,
            "justify_items": null,
            "left": null,
            "margin": null,
            "max_height": null,
            "max_width": null,
            "min_height": null,
            "min_width": null,
            "object_fit": null,
            "object_position": null,
            "order": null,
            "overflow": null,
            "overflow_x": null,
            "overflow_y": null,
            "padding": null,
            "right": null,
            "top": null,
            "visibility": null,
            "width": null
          }
        },
        "a49a0f3a547c4aebb985d812472a7b0e": {
          "model_module": "@jupyter-widgets/controls",
          "model_name": "DescriptionStyleModel",
          "model_module_version": "1.5.0",
          "state": {
            "_model_module": "@jupyter-widgets/controls",
            "_model_module_version": "1.5.0",
            "_model_name": "DescriptionStyleModel",
            "_view_count": null,
            "_view_module": "@jupyter-widgets/base",
            "_view_module_version": "1.2.0",
            "_view_name": "StyleView",
            "description_width": ""
          }
        }
      }
    }
  },
  "cells": [
    {
      "cell_type": "markdown",
      "metadata": {
        "id": "view-in-github",
        "colab_type": "text"
      },
      "source": [
        "<a href=\"https://colab.research.google.com/github/TimStep/QManifold/blob/main/QManifold.ipynb\" target=\"_parent\"><img src=\"https://colab.research.google.com/assets/colab-badge.svg\" alt=\"Open In Colab\"/></a>"
      ]
    },
    {
      "cell_type": "code",
      "source": [
        "!pip install -q qiskit\n",
        "!pip install -q pylatexenc #for mpl output\n",
        "!pip install -q qiskit-machine-learning\n",
        "#!pip install -q sparse\n",
        "!pip install -q pennylane --upgrade"
      ],
      "metadata": {
        "collapsed": true,
        "id": "ay0BJzuYu2Wr",
        "colab": {
          "base_uri": "https://localhost:8080/"
        },
        "outputId": "fc35640c-e8cc-4306-ed45-62d9b2e5e9c7"
      },
      "execution_count": 1,
      "outputs": [
        {
          "output_type": "stream",
          "name": "stdout",
          "text": [
            "\u001b[2K   \u001b[90m━━━━━━━━━━━━━━━━━━━━━━━━━━━━━━━━━━━━━━━━\u001b[0m \u001b[32m4.3/4.3 MB\u001b[0m \u001b[31m33.4 MB/s\u001b[0m eta \u001b[36m0:00:00\u001b[0m\n",
            "\u001b[2K   \u001b[90m━━━━━━━━━━━━━━━━━━━━━━━━━━━━━━━━━━━━━━━━\u001b[0m \u001b[32m116.3/116.3 kB\u001b[0m \u001b[31m4.2 MB/s\u001b[0m eta \u001b[36m0:00:00\u001b[0m\n",
            "\u001b[2K   \u001b[90m━━━━━━━━━━━━━━━━━━━━━━━━━━━━━━━━━━━━━━━━\u001b[0m \u001b[32m2.0/2.0 MB\u001b[0m \u001b[31m16.4 MB/s\u001b[0m eta \u001b[36m0:00:00\u001b[0m\n",
            "\u001b[2K   \u001b[90m━━━━━━━━━━━━━━━━━━━━━━━━━━━━━━━━━━━━━━━━\u001b[0m \u001b[32m49.7/49.7 kB\u001b[0m \u001b[31m2.1 MB/s\u001b[0m eta \u001b[36m0:00:00\u001b[0m\n",
            "\u001b[2K   \u001b[90m━━━━━━━━━━━━━━━━━━━━━━━━━━━━━━━━━━━━━━━━\u001b[0m \u001b[32m39.4/39.4 MB\u001b[0m \u001b[31m11.0 MB/s\u001b[0m eta \u001b[36m0:00:00\u001b[0m\n",
            "\u001b[2K   \u001b[90m━━━━━━━━━━━━━━━━━━━━━━━━━━━━━━━━━━━━━━━━\u001b[0m \u001b[32m107.5/107.5 kB\u001b[0m \u001b[31m3.4 MB/s\u001b[0m eta \u001b[36m0:00:00\u001b[0m\n",
            "\u001b[2K     \u001b[90m━━━━━━━━━━━━━━━━━━━━━━━━━━━━━━━━━━━━━━━━\u001b[0m \u001b[32m162.6/162.6 kB\u001b[0m \u001b[31m4.4 MB/s\u001b[0m eta \u001b[36m0:00:00\u001b[0m\n",
            "\u001b[?25h  Preparing metadata (setup.py) ... \u001b[?25l\u001b[?25hdone\n",
            "  Building wheel for pylatexenc (setup.py) ... \u001b[?25l\u001b[?25hdone\n",
            "\u001b[2K     \u001b[90m━━━━━━━━━━━━━━━━━━━━━━━━━━━━━━━━━━━━━━━━\u001b[0m \u001b[32m133.4/133.4 kB\u001b[0m \u001b[31m4.9 MB/s\u001b[0m eta \u001b[36m0:00:00\u001b[0m\n",
            "\u001b[?25h  Preparing metadata (setup.py) ... \u001b[?25l\u001b[?25hdone\n",
            "\u001b[2K   \u001b[90m━━━━━━━━━━━━━━━━━━━━━━━━━━━━━━━━━━━━━━━━\u001b[0m \u001b[32m97.8/97.8 kB\u001b[0m \u001b[31m5.8 MB/s\u001b[0m eta \u001b[36m0:00:00\u001b[0m\n",
            "\u001b[2K   \u001b[90m━━━━━━━━━━━━━━━━━━━━━━━━━━━━━━━━━━━━━━━━\u001b[0m \u001b[32m308.6/308.6 kB\u001b[0m \u001b[31m15.7 MB/s\u001b[0m eta \u001b[36m0:00:00\u001b[0m\n",
            "\u001b[?25h  Building wheel for fastdtw (setup.py) ... \u001b[?25l\u001b[?25hdone\n",
            "\u001b[2K   \u001b[90m━━━━━━━━━━━━━━━━━━━━━━━━━━━━━━━━━━━━━━━━\u001b[0m \u001b[32m1.8/1.8 MB\u001b[0m \u001b[31m36.4 MB/s\u001b[0m eta \u001b[36m0:00:00\u001b[0m\n",
            "\u001b[2K   \u001b[90m━━━━━━━━━━━━━━━━━━━━━━━━━━━━━━━━━━━━━━━━\u001b[0m \u001b[32m51.0/51.0 kB\u001b[0m \u001b[31m3.5 MB/s\u001b[0m eta \u001b[36m0:00:00\u001b[0m\n",
            "\u001b[2K   \u001b[90m━━━━━━━━━━━━━━━━━━━━━━━━━━━━━━━━━━━━━━━━\u001b[0m \u001b[32m15.5/15.5 MB\u001b[0m \u001b[31m85.2 MB/s\u001b[0m eta \u001b[36m0:00:00\u001b[0m\n",
            "\u001b[?25h"
          ]
        }
      ]
    },
    {
      "cell_type": "code",
      "source": [
        "#default imports\n",
        "import torch\n",
        "import torch.nn as nn\n",
        "import torch.optim as optim\n",
        "from torch.utils.data import Dataset, DataLoader\n",
        "import numpy as np\n",
        "import matplotlib.pyplot as plt\n",
        "from tqdm.notebook import tqdm\n",
        "\n",
        "#QML imports\n",
        "from qiskit import QuantumCircuit\n",
        "from qiskit.circuit import Parameter\n",
        "from qiskit_machine_learning.neural_networks import EstimatorQNN\n",
        "from qiskit.quantum_info import SparsePauliOp\n",
        "from qiskit_algorithms.utils import algorithm_globals\n",
        "from qiskit_machine_learning.circuit.library import QNNCircuit\n",
        "from qiskit_machine_learning.connectors import TorchConnector\n",
        "import pennylane as qml"
      ],
      "metadata": {
        "id": "6E38neo8-gTR"
      },
      "execution_count": 2,
      "outputs": []
    },
    {
      "cell_type": "code",
      "source": [
        "device = \"cuda\" if torch.cuda.is_available() else \"cpu\"\n",
        "#device = 'cpu'"
      ],
      "metadata": {
        "id": "dLjW1VtJCR77"
      },
      "execution_count": 3,
      "outputs": []
    },
    {
      "cell_type": "markdown",
      "source": [
        "# Dataset"
      ],
      "metadata": {
        "id": "lyoZUAJXmdEz"
      }
    },
    {
      "cell_type": "code",
      "source": [
        "[ds] = qml.data.load(\"other\", name = \"hidden-manifold\")"
      ],
      "metadata": {
        "id": "bFBBV0GUmgUP"
      },
      "execution_count": 4,
      "outputs": []
    },
    {
      "cell_type": "code",
      "source": [
        "def to_dataset(ds):\n",
        "  HMtrainX = []\n",
        "  HMtrainY = []\n",
        "  HMtestX = []\n",
        "  HMtestY = []\n",
        "  for m in ds.train:\n",
        "    HMtrainX += ds.train[m]['inputs']\n",
        "    HMtrainY += ds.train[m]['labels']\n",
        "    HMtestX = ds.test[m]['inputs']\n",
        "    HMtestY = ds.test[m]['labels']\n",
        "  return np.array(HMtrainX), np.array(HMtrainY), np.array(HMtestX), np.array(HMtestY)"
      ],
      "metadata": {
        "id": "mRamXXbU8b1R"
      },
      "execution_count": 5,
      "outputs": []
    },
    {
      "cell_type": "code",
      "source": [
        "HMtrainX, HMtrainY, HMtestX, HMtestY = to_dataset(ds)\n",
        "HMtrainX.shape, HMtrainY.shape, HMtestX.shape, HMtestY.shape"
      ],
      "metadata": {
        "colab": {
          "base_uri": "https://localhost:8080/"
        },
        "id": "gZeqwHxp-1ke",
        "outputId": "59d780f8-1d7f-4e3f-ebd2-9a60419fbf3e"
      },
      "execution_count": 6,
      "outputs": [
        {
          "output_type": "execute_result",
          "data": {
            "text/plain": [
              "((4560, 10), (4560,), (60, 10), (60,))"
            ]
          },
          "metadata": {},
          "execution_count": 6
        }
      ]
    },
    {
      "cell_type": "code",
      "source": [
        "class ManifoldDataset(Dataset):\n",
        "    def __init__(self, data_x, data_y):\n",
        "        self.X = torch.tensor(data_x.astype('float32'))\n",
        "        self.y = torch.tensor(data_y.astype('float32'))\n",
        "\n",
        "    def __len__(self):\n",
        "        return self.X.shape[0]\n",
        "\n",
        "    def __getitem__(self, index):\n",
        "        return self.X[index], self.y[index]"
      ],
      "metadata": {
        "id": "mKS0V_9uC_X5"
      },
      "execution_count": 7,
      "outputs": []
    },
    {
      "cell_type": "code",
      "source": [
        "HMtrainDS = ManifoldDataset(HMtrainX, HMtrainY)\n",
        "HMtestDS = ManifoldDataset(HMtestX, HMtestY)\n",
        "HMtrainDL = DataLoader(HMtrainDS, shuffle=True, drop_last=True, pin_memory=True, batch_size = 100)\n",
        "HMtestDL = DataLoader(HMtestDS, shuffle=False)"
      ],
      "metadata": {
        "id": "6t291oDKG9Xm"
      },
      "execution_count": 8,
      "outputs": []
    },
    {
      "cell_type": "markdown",
      "source": [
        "# PQN"
      ],
      "metadata": {
        "id": "1aozxSrgCME3"
      }
    },
    {
      "cell_type": "code",
      "source": [
        "class PQN():\n",
        "\n",
        "    def __init__(self, qubits, repetitions, inputs=None, weights=None, input_gradients=False):\n",
        "\n",
        "        if inputs is not None and len(inputs) != qubits:\n",
        "          raise ValueError('Number of inputs doesnt align with number of qubits')\n",
        "\n",
        "        self.qubits = qubits\n",
        "        self.reps = repetitions\n",
        "\n",
        "        self.weights = weights\n",
        "        self.inputs = inputs\n",
        "        self.gen_params()\n",
        "        self.circuit = None\n",
        "        self.gen_circuit()\n",
        "\n",
        "        if self.weights is None or self.inputs is None or self.circuit is None:\n",
        "          raise AttributeError('Weights, inputs or circuit is None')\n",
        "\n",
        "    def gen_params(self):\n",
        "      self.inputs = [Parameter(\"input\" + str(i)) for i in range(1, self.qubits+1)] if self.inputs is None else self.inputs\n",
        "      self.weights = [[Parameter(\"weight\" + str(j) + str(i)) for i in range(1, 3*self.reps+1)] for j in range(1, self.qubits+1)] if self.weights is None else self.weights\n",
        "\n",
        "    def gen_circuit(self):\n",
        "      qc = QuantumCircuit(self.qubits)\n",
        "\n",
        "      #encoding\n",
        "      for q in range(self.qubits):\n",
        "        qc.rx(self.inputs[q], q)\n",
        "\n",
        "      for r in range(self.reps):\n",
        "        #weighed gates\n",
        "        for q in range(self.qubits):\n",
        "          qc.rz(self.weights[q][r*3], q)\n",
        "          qc.ry(self.weights[q][r*3+1], q)\n",
        "          qc.rz(self.weights[q][r*3+2], q)\n",
        "\n",
        "        #cnot gates\n",
        "        for q in range(self.qubits-1):\n",
        "          qc.cx(q, q+1)\n",
        "        qc.cx(self.qubits-1, 0)\n",
        "\n",
        "      self.circuit = qc\n",
        "\n",
        "    def create_qnn(self):\n",
        "      observables = []\n",
        "      for q in range(self.qubits):\n",
        "        s = ['I']*self.qubits\n",
        "        s[q] = 'Y'\n",
        "        observables.append(SparsePauliOp(''.join(s)))\n",
        "\n",
        "      return EstimatorQNN(\n",
        "          circuit=self.circuit,\n",
        "          input_params=self.inputs,\n",
        "          weight_params=list(np.array(self.weights).flatten()),\n",
        "          observables=observables,\n",
        "          input_gradients=True\n",
        "      )\n",
        "\n"
      ],
      "metadata": {
        "id": "qtnUznHXufzx"
      },
      "execution_count": 9,
      "outputs": []
    },
    {
      "cell_type": "code",
      "source": [
        "pqn = PQN(\n",
        "    qubits=3, repetitions=1\n",
        ")\n",
        "pqnn = pqn.create_qnn()\n",
        "pqnn.circuit.draw(output=\"mpl\")"
      ],
      "metadata": {
        "colab": {
          "base_uri": "https://localhost:8080/",
          "height": 255
        },
        "id": "ZykvRav7XrUY",
        "outputId": "009e66d5-5b8b-4c5b-8391-f684e7e6c849"
      },
      "execution_count": 10,
      "outputs": [
        {
          "output_type": "execute_result",
          "data": {
            "text/plain": [
              "<Figure size 705.552x284.278 with 1 Axes>"
            ],
            "image/png": "[encoded data removed]"
          },
          "metadata": {},
          "execution_count": 10
        }
      ]
    },
    {
      "cell_type": "code",
      "source": [
        "class HPQN(nn.Module):\n",
        "\n",
        "  def __init__(self, input_size, layer_sizes=[5, 2, 1], qubits=5, repetitions=1, num_qlayers=1):\n",
        "    super().__init__()\n",
        "\n",
        "    #quantum layers\n",
        "    pqn = PQN(\n",
        "      qubits=qubits, repetitions=repetitions\n",
        "    )\n",
        "    self.qnn = []\n",
        "    for i in range(num_qlayers):\n",
        "      self.qnn.append(TorchConnector(pqn.create_qnn()))\n",
        "\n",
        "    #FCNN before quantum layer\n",
        "    self.preqNet = nn.Sequential(\n",
        "        nn.Linear(input_size, qubits*num_qlayers),\n",
        "        nn.ReLU()\n",
        "    )\n",
        "\n",
        "    #FCNN after quantum layer\n",
        "    layers = [nn.Linear(qubits*num_qlayers, layer_sizes[0])]\n",
        "    for l in range(len(layer_sizes)-1):\n",
        "      layers.append(nn.ReLU())\n",
        "      layers.append(nn.Linear(layer_sizes[l], layer_sizes[l+1]))\n",
        "    self.postqNet = nn.Sequential(*layers)\n",
        "\n",
        "  def forward(self, x):\n",
        "    x = self.preqNet(x)\n",
        "\n",
        "    #quantum layers\n",
        "    '''\n",
        "    xs = torch.split(x, self.qnn[0].neural_network.num_inputs, dim=1)\n",
        "    x = []\n",
        "    for c in range(len(xs)):\n",
        "      x.append(self.qnn[c](xs[c]))\n",
        "    x = torch.concat(x, dim=1)\n",
        "    '''\n",
        "    x = self.qnn[0](x)\n",
        "    x = self.postqNet(x)\n",
        "    return x"
      ],
      "metadata": {
        "id": "L9I0RR3MlRAz"
      },
      "execution_count": 28,
      "outputs": []
    },
    {
      "cell_type": "markdown",
      "source": [
        "# Train Loop"
      ],
      "metadata": {
        "id": "BySRYfZI_jvz"
      }
    },
    {
      "cell_type": "code",
      "source": [
        "def train(model, criterion, optimizer, trainDL, epochs=10):\n",
        "\n",
        "  epoch_loss = []\n",
        "\n",
        "  for epoch in tqdm(range(epochs)):\n",
        "\n",
        "    batch_loss = 0\n",
        "    #b=0\n",
        "    for batch in trainDL:\n",
        "      #b+=1\n",
        "      X = batch[0].to(device)\n",
        "      y = batch[1].to(device)\n",
        "\n",
        "      # model forward-pass\n",
        "      preds = model(X)\n",
        "\n",
        "      # model backward-pass\n",
        "      optimizer.zero_grad() # t.grad = torch.tensor([0., 0., 0.])\n",
        "      loss = criterion(preds, y)\n",
        "      loss_mean = loss.mean()\n",
        "      #print('xd'+str(epoch)+str(b))\n",
        "      loss_mean.backward()\n",
        "      optimizer.step()\n",
        "\n",
        "      # save loss and accuracy\n",
        "      batch_loss += loss_mean.detach().cpu().numpy()  # Store loss\n",
        "\n",
        "    epoch_loss.append(batch_loss / len(trainDL))\n",
        "    print(\"Training [{:.0f}%]\\tLoss: {:.4f}\".format(100.0 * (epoch + 1) / epochs, epoch_loss[-1]))\n",
        "\n",
        "  return epoch_loss"
      ],
      "metadata": {
        "id": "Dj5ofvpJ_7kb"
      },
      "execution_count": 29,
      "outputs": []
    },
    {
      "cell_type": "code",
      "source": [
        "# Define model, optimizer, and loss function\n",
        "hpqn = HPQN(\n",
        "    input_size=10, qubits=3\n",
        ")\n",
        "hpqn.to(device)\n",
        "\n",
        "optimizer = optim.Adam(hpqn.parameters(), lr=0.01)\n",
        "criterion = nn.L1Loss(reduction='none')\n",
        "epochs = 10  # Set number of epochs\n",
        "hpqn.train()  # Set model to training mode"
      ],
      "metadata": {
        "colab": {
          "base_uri": "https://localhost:8080/"
        },
        "id": "8s3UEVouGUFs",
        "outputId": "1c11b51f-513d-439f-f294-eb673531ebeb"
      },
      "execution_count": 30,
      "outputs": [
        {
          "output_type": "execute_result",
          "data": {
            "text/plain": [
              "HPQN(\n",
              "  (preqNet): Sequential(\n",
              "    (0): Linear(in_features=10, out_features=3, bias=True)\n",
              "    (1): ReLU()\n",
              "  )\n",
              "  (postqNet): Sequential(\n",
              "    (0): Linear(in_features=3, out_features=5, bias=True)\n",
              "    (1): ReLU()\n",
              "    (2): Linear(in_features=5, out_features=2, bias=True)\n",
              "    (3): ReLU()\n",
              "    (4): Linear(in_features=2, out_features=1, bias=True)\n",
              "  )\n",
              ")"
            ]
          },
          "metadata": {},
          "execution_count": 30
        }
      ]
    },
    {
      "cell_type": "code",
      "source": [
        "total_loss = train(\n",
        "    model=hpqn,\n",
        "    criterion=criterion,\n",
        "    optimizer=optimizer,\n",
        "    trainDL=HMtrainDL,\n",
        "    epochs=epochs\n",
        ")"
      ],
      "metadata": {
        "id": "IMrlpMOeglqY",
        "colab": {
          "base_uri": "https://localhost:8080/",
          "height": 223,
          "referenced_widgets": [
            "3fc1db10a3f74fd381213bd389e64f12",
            "c7b86cc6ad814a038205c83e497c021e",
            "448d020c230d4173b060567f37298034",
            "f14cb35801d34514bcbf4fa4a3d32f78",
            "32f6f10a30a540849ecfe947a29deb9d",
            "0c685cb38c224f45b4116d5f2ac7e9f4",
            "d680e8b40a014520bfd7b3e233070615",
            "ce683fe95bf34ec2a26376f0cde7c5b0",
            "bb9e15c1d95543f295a09aa7c2c0f4b6",
            "3ddb3539d4e042c1bf5b19508df84f6c",
            "a49a0f3a547c4aebb985d812472a7b0e"
          ]
        },
        "outputId": "2447fbed-6d7c-466d-fba7-3310fbb2152e"
      },
      "execution_count": 31,
      "outputs": [
        {
          "output_type": "display_data",
          "data": {
            "text/plain": [
              "  0%|          | 0/10 [00:00<?, ?it/s]"
            ],
            "application/vnd.jupyter.widget-view+json": {
              "version_major": 2,
              "version_minor": 0,
              "model_id": "3fc1db10a3f74fd381213bd389e64f12"
            }
          },
          "metadata": {}
        },
        {
          "output_type": "stream",
          "name": "stdout",
          "text": [
            "Training [10%]\tLoss: 1.0052\n",
            "Training [20%]\tLoss: 1.0031\n",
            "Training [30%]\tLoss: 1.0017\n",
            "Training [40%]\tLoss: 1.0036\n",
            "Training [50%]\tLoss: 1.0033\n",
            "Training [60%]\tLoss: 1.0022\n",
            "Training [70%]\tLoss: 1.0034\n",
            "Training [80%]\tLoss: 1.0029\n",
            "Training [90%]\tLoss: 1.0024\n",
            "Training [100%]\tLoss: 1.0013\n"
          ]
        }
      ]
    }
  ]
}